{
 "cells": [
  {
   "cell_type": "code",
   "execution_count": null,
   "metadata": {},
   "outputs": [],
   "source": [
    "            \n",
    "\n",
    "if tag == 'IEA': tag = 'International Energy Agency'\n",
    "\n",
    "\n",
    "\n",
    "\n",
    "\n",
    "\n",
    "if tag == 'Energy': tag = 'Energy Department'\n",
    "if tag == 'Agriculture': tag = 'Agriculture Department'\n",
    "if tag == 'house': tag = 'House'\n",
    "if tag == 'El Nino': tag = 'El Niño'\n",
    "if tag == 'Sierra': tag = 'Sierra Club'\n",
    "\n",
    "\n",
    "\n",
    "\n",
    "\n",
    "\n",
    "            # Collect the single tag\n",
    "            \n",
    "            stoplist = {'Elon Musk', 'Trump', 'CCS', 'green energy', 'clean energy', 'PPA', 'PPAs', 'PPP', 'PPPs', 'state'}\n",
    "            \n",
    "            if tag not in stoplist:\n",
    "                tags.append(tag)"
   ]
  }
 ],
 "metadata": {
  "language_info": {
   "name": "python"
  },
  "orig_nbformat": 4
 },
 "nbformat": 4,
 "nbformat_minor": 2
}
