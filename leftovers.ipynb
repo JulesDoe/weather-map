{
 "cells": [
  {
   "cell_type": "code",
   "execution_count": null,
   "metadata": {},
   "outputs": [],
   "source": [
    "            \n",
    "\n",
    "\n",
    "\n",
    "\n",
    "\n",
    "\n",
    "\n",
    "\n",
    "if tag == 'Energy': tag = 'Energy Department'\n",
    "\n",
    "if tag == 'house': tag = 'House'\n",
    "if tag == 'El Nino': tag = 'El Niño'\n",
    "if tag == 'Sierra': tag = 'Sierra Club'\n",
    "\n",
    "\n",
    "\n",
    "\n",
    "\n"
   ]
  }
 ],
 "metadata": {
  "language_info": {
   "name": "python"
  },
  "orig_nbformat": 4
 },
 "nbformat": 4,
 "nbformat_minor": 2
}
