{
 "metadata": {
  "language_info": {
   "codemirror_mode": {
    "name": "ipython",
    "version": 3
   },
   "file_extension": ".py",
   "mimetype": "text/x-python",
   "name": "python",
   "nbconvert_exporter": "python",
   "pygments_lexer": "ipython3",
   "version": "3.8.5-final"
  },
  "orig_nbformat": 2,
  "kernelspec": {
   "name": "python38864bitbasevirtualenv5223d6103b7a49faac888ff1fb3c7e01",
   "display_name": "Python 3.8.8 64-bit ('base': virtualenv)"
  }
 },
 "nbformat": 4,
 "nbformat_minor": 2,
 "cells": [
  {
   "cell_type": "code",
   "execution_count": 7,
   "metadata": {},
   "outputs": [],
   "source": [
    "import pandas as pd\n",
    "import requests\n",
    "import json"
   ]
  },
  {
   "cell_type": "code",
   "execution_count": 33,
   "metadata": {},
   "outputs": [
    {
     "output_type": "execute_result",
     "data": {
      "text/plain": [
       "      stories_id         publish_date  \\\n",
       "7173  1908679533  2021-04-01 15:53:32   \n",
       "7174  1908736352  2021-04-21 16:19:00   \n",
       "7175  1908735490  2021-04-21 16:19:00   \n",
       "7176  1908798613  2021-04-21 16:59:30   \n",
       "7177  1908931813  2021-04-21 06:45:00   \n",
       "\n",
       "                                                  title  \\\n",
       "7173  Exclusive: White House asks EPA to study how E...   \n",
       "7174  The Conversation: The U.S. electric-power sect...   \n",
       "7175  The Conversation: The U.S. electric-power sect...   \n",
       "7176  The U.S. electric power sector is 'halfway' to...   \n",
       "7177  Why the federal government is buying into the ...   \n",
       "\n",
       "                                                    url language  \\\n",
       "7173  https://www.reuters.com/article/us-usa-biden-b...       en   \n",
       "7174  http://www.marketwatch.com/news/story.asp?guid...       en   \n",
       "7175  http://www.marketwatch.com/news/story.asp?guid...       en   \n",
       "7176  https://www.pbs.org/newshour/nation/the-u-s-el...       en   \n",
       "7177  https://grist.org/energy/can-the-federal-gover...       en   \n",
       "\n",
       "      ap_syndicated                                             themes  \\\n",
       "7173          False  oil (petroleum) and gasoline, environment, int...   \n",
       "7174          False  global warming, environment, weather, energy a...   \n",
       "7175          False  global warming, environment, weather, energy a...   \n",
       "7176          False  politics and government, global warming, envir...   \n",
       "7177          False  environment, energy and power, air pollution, ...   \n",
       "\n",
       "      media_id           media_name                     media_url  \n",
       "7173      4442              Reuters        http://www.reuters.com  \n",
       "7174      1150  Wall Street Journal          https://www.wsj.com/  \n",
       "7175     35170          Marketwatch  https://www.marketwatch.com/  \n",
       "7176    271188         PBS NewsHour  http://www.pbs.org/newshour/  \n",
       "7177     27343                Grist             http://grist.org/  "
      ],
      "text/html": "<div>\n<style scoped>\n    .dataframe tbody tr th:only-of-type {\n        vertical-align: middle;\n    }\n\n    .dataframe tbody tr th {\n        vertical-align: top;\n    }\n\n    .dataframe thead th {\n        text-align: right;\n    }\n</style>\n<table border=\"1\" class=\"dataframe\">\n  <thead>\n    <tr style=\"text-align: right;\">\n      <th></th>\n      <th>stories_id</th>\n      <th>publish_date</th>\n      <th>title</th>\n      <th>url</th>\n      <th>language</th>\n      <th>ap_syndicated</th>\n      <th>themes</th>\n      <th>media_id</th>\n      <th>media_name</th>\n      <th>media_url</th>\n    </tr>\n  </thead>\n  <tbody>\n    <tr>\n      <th>7173</th>\n      <td>1908679533</td>\n      <td>2021-04-01 15:53:32</td>\n      <td>Exclusive: White House asks EPA to study how E...</td>\n      <td>https://www.reuters.com/article/us-usa-biden-b...</td>\n      <td>en</td>\n      <td>False</td>\n      <td>oil (petroleum) and gasoline, environment, int...</td>\n      <td>4442</td>\n      <td>Reuters</td>\n      <td>http://www.reuters.com</td>\n    </tr>\n    <tr>\n      <th>7174</th>\n      <td>1908736352</td>\n      <td>2021-04-21 16:19:00</td>\n      <td>The Conversation: The U.S. electric-power sect...</td>\n      <td>http://www.marketwatch.com/news/story.asp?guid...</td>\n      <td>en</td>\n      <td>False</td>\n      <td>global warming, environment, weather, energy a...</td>\n      <td>1150</td>\n      <td>Wall Street Journal</td>\n      <td>https://www.wsj.com/</td>\n    </tr>\n    <tr>\n      <th>7175</th>\n      <td>1908735490</td>\n      <td>2021-04-21 16:19:00</td>\n      <td>The Conversation: The U.S. electric-power sect...</td>\n      <td>http://www.marketwatch.com/news/story.asp?guid...</td>\n      <td>en</td>\n      <td>False</td>\n      <td>global warming, environment, weather, energy a...</td>\n      <td>35170</td>\n      <td>Marketwatch</td>\n      <td>https://www.marketwatch.com/</td>\n    </tr>\n    <tr>\n      <th>7176</th>\n      <td>1908798613</td>\n      <td>2021-04-21 16:59:30</td>\n      <td>The U.S. electric power sector is 'halfway' to...</td>\n      <td>https://www.pbs.org/newshour/nation/the-u-s-el...</td>\n      <td>en</td>\n      <td>False</td>\n      <td>politics and government, global warming, envir...</td>\n      <td>271188</td>\n      <td>PBS NewsHour</td>\n      <td>http://www.pbs.org/newshour/</td>\n    </tr>\n    <tr>\n      <th>7177</th>\n      <td>1908931813</td>\n      <td>2021-04-21 06:45:00</td>\n      <td>Why the federal government is buying into the ...</td>\n      <td>https://grist.org/energy/can-the-federal-gover...</td>\n      <td>en</td>\n      <td>False</td>\n      <td>environment, energy and power, air pollution, ...</td>\n      <td>27343</td>\n      <td>Grist</td>\n      <td>http://grist.org/</td>\n    </tr>\n  </tbody>\n</table>\n</div>"
     },
     "metadata": {},
     "execution_count": 33
    }
   ],
   "source": [
    "csv = pd.read_csv(\"MediaCloud/biomass-all-story-urls-20210422214554.csv\")\n",
    "\n",
    "csv.tail(5)\n"
   ]
  },
  {
   "cell_type": "code",
   "execution_count": 34,
   "metadata": {},
   "outputs": [
    {
     "output_type": "stream",
     "name": "stdout",
     "text": [
      "Google\nDepartment of Defense\ntech giants\nGSA\nclean energy\nClean Air Task Force\nfederal General Services Administration\n"
     ]
    }
   ],
   "source": [
    "\n",
    "# Working ID 333682533\n",
    "\n",
    "id = str(1908931813)\n",
    "\n",
    "url = 'https://api.mediacloud.org/api/v2/stories_public/single/' + id + '?key=b2ef1a99a8fdbb84afafe742fd437c0942703072bb98242ba0eed9b8411e1735'\n",
    "r = requests.get(url, allow_redirects=True)\n",
    "\n",
    "y = json.loads(r.content)\n",
    "\n",
    "for t in y[0]['story_tags']:\n",
    "    if (t['tag_set'] == 'cliff_organizations'):\n",
    "        print(t['tag'])\n",
    "\n",
    "# open(id +'.json', 'wb').write(r.content)\n",
    "\n"
   ]
  },
  {
   "cell_type": "code",
   "execution_count": null,
   "metadata": {},
   "outputs": [],
   "source": []
  }
 ]
}