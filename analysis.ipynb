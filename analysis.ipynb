{
 "metadata": {
  "language_info": {
   "codemirror_mode": {
    "name": "ipython",
    "version": 3
   },
   "file_extension": ".py",
   "mimetype": "text/x-python",
   "name": "python",
   "nbconvert_exporter": "python",
   "pygments_lexer": "ipython3",
   "version": "3.8.5-final"
  },
  "orig_nbformat": 2,
  "kernelspec": {
   "name": "python38864bitbasevirtualenv5223d6103b7a49faac888ff1fb3c7e01",
   "display_name": "Python 3.8.8 64-bit ('base': virtualenv)"
  }
 },
 "nbformat": 4,
 "nbformat_minor": 2,
 "cells": [
  {
   "cell_type": "code",
   "execution_count": 38,
   "metadata": {},
   "outputs": [],
   "source": [
    "import pandas as pd\n",
    "import requests\n",
    "import json\n",
    "import networkx as nx"
   ]
  },
  {
   "cell_type": "code",
   "execution_count": 39,
   "metadata": {},
   "outputs": [
    {
     "output_type": "execute_result",
     "data": {
      "text/plain": [
       "      stories_id         publish_date  \\\n",
       "7177  1908931813  2021-04-21 06:45:00   \n",
       "\n",
       "                                                  title  \\\n",
       "7177  Why the federal government is buying into the ...   \n",
       "\n",
       "                                                    url language  \\\n",
       "7177  https://grist.org/energy/can-the-federal-gover...       en   \n",
       "\n",
       "      ap_syndicated                                             themes  \\\n",
       "7177          False  environment, energy and power, air pollution, ...   \n",
       "\n",
       "      media_id media_name          media_url  \n",
       "7177     27343      Grist  http://grist.org/  "
      ],
      "text/html": "<div>\n<style scoped>\n    .dataframe tbody tr th:only-of-type {\n        vertical-align: middle;\n    }\n\n    .dataframe tbody tr th {\n        vertical-align: top;\n    }\n\n    .dataframe thead th {\n        text-align: right;\n    }\n</style>\n<table border=\"1\" class=\"dataframe\">\n  <thead>\n    <tr style=\"text-align: right;\">\n      <th></th>\n      <th>stories_id</th>\n      <th>publish_date</th>\n      <th>title</th>\n      <th>url</th>\n      <th>language</th>\n      <th>ap_syndicated</th>\n      <th>themes</th>\n      <th>media_id</th>\n      <th>media_name</th>\n      <th>media_url</th>\n    </tr>\n  </thead>\n  <tbody>\n    <tr>\n      <th>7177</th>\n      <td>1908931813</td>\n      <td>2021-04-21 06:45:00</td>\n      <td>Why the federal government is buying into the ...</td>\n      <td>https://grist.org/energy/can-the-federal-gover...</td>\n      <td>en</td>\n      <td>False</td>\n      <td>environment, energy and power, air pollution, ...</td>\n      <td>27343</td>\n      <td>Grist</td>\n      <td>http://grist.org/</td>\n    </tr>\n  </tbody>\n</table>\n</div>"
     },
     "metadata": {},
     "execution_count": 39
    }
   ],
   "source": [
    "csv = pd.read_csv(\"MediaCloud/biomass-all-story-urls-20210422214554.csv\")\n",
    "\n",
    "csv.tail(1)\n"
   ]
  },
  {
   "cell_type": "code",
   "execution_count": 43,
   "metadata": {},
   "outputs": [
    {
     "output_type": "execute_result",
     "data": {
      "text/plain": [
       "[{'stories_id': 1908931813,\n",
       "  'tag': 'Google',\n",
       "  'tag_set': 'cliff_organizations',\n",
       "  'tag_sets_id': 2388,\n",
       "  'tags_id': 9363209},\n",
       " {'stories_id': 1908931813,\n",
       "  'tag': 'Department of Defense',\n",
       "  'tag_set': 'cliff_organizations',\n",
       "  'tag_sets_id': 2388,\n",
       "  'tags_id': 9366963},\n",
       " {'stories_id': 1908931813,\n",
       "  'tag': 'tech giants',\n",
       "  'tag_set': 'cliff_organizations',\n",
       "  'tag_sets_id': 2388,\n",
       "  'tags_id': 9376410},\n",
       " {'stories_id': 1908931813,\n",
       "  'tag': 'GSA',\n",
       "  'tag_set': 'cliff_organizations',\n",
       "  'tag_sets_id': 2388,\n",
       "  'tags_id': 9398493},\n",
       " {'stories_id': 1908931813,\n",
       "  'tag': 'clean energy',\n",
       "  'tag_set': 'cliff_organizations',\n",
       "  'tag_sets_id': 2388,\n",
       "  'tags_id': 9584691},\n",
       " {'stories_id': 1908931813,\n",
       "  'tag': 'Clean Air Task Force',\n",
       "  'tag_set': 'cliff_organizations',\n",
       "  'tag_sets_id': 2388,\n",
       "  'tags_id': 9600394},\n",
       " {'stories_id': 1908931813,\n",
       "  'tag': 'federal General Services Administration',\n",
       "  'tag_set': 'cliff_organizations',\n",
       "  'tag_sets_id': 2388,\n",
       "  'tags_id': 10271408}]"
      ]
     },
     "metadata": {},
     "execution_count": 43
    }
   ],
   "source": [
    "\n",
    "# Working ID 333682533\n",
    "\n",
    "G = nx.Graph()\n",
    "\n",
    "id = str(1908931813)\n",
    "\n",
    "url = 'https://api.mediacloud.org/api/v2/stories_public/single/' + id + '?key=b2ef1a99a8fdbb84afafe742fd437c0942703072bb98242ba0eed9b8411e1735'\n",
    "r = requests.get(url, allow_redirects=True)\n",
    "\n",
    "y = json.loads(r.content)\n",
    "\n",
    "# y\n",
    "\n",
    "orgs = []\n",
    "\n",
    "for t in y[0]['story_tags']:\n",
    "    if (t['tag_set'] == 'cliff_organizations'):\n",
    "        orgs.append(t)\n",
    "        # print(t['tag'])\n",
    "        # print(t['tags_id'])\n",
    "        # print()\n",
    "\n",
    "orgs\n",
    "\n",
    "# open(id +'.json', 'wb').write(r.content)\n",
    "\n"
   ]
  },
  {
   "cell_type": "code",
   "execution_count": null,
   "metadata": {},
   "outputs": [],
   "source": []
  }
 ]
}